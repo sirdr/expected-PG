{
 "cells": [
  {
   "cell_type": "code",
   "execution_count": 19,
   "metadata": {},
   "outputs": [],
   "source": [
    "import numpy as np\n",
    "import matplotlib.pyplot as plt\n",
    "import matplotlib2tikz\n",
    "\n",
    "plt.rcParams['figure.figsize'] = (10.0, 8.0)"
   ]
  },
  {
   "cell_type": "code",
   "execution_count": 30,
   "metadata": {},
   "outputs": [],
   "source": [
    "D = {'REINFORCE': 0.0134, 'mc-1': 0.0203, 'mc-2': 0.0115, 'mc-4': 0.0074, 'mc-8': 0.0049, 'mc-16': 0.0044, 'mc-32': 0.0036, 'mc-64': 0.0032, 'mc-128': 0.0032, 'mc-256': 0.0031, 'mc-512': 0.0028}"
   ]
  },
  {
   "cell_type": "code",
   "execution_count": 31,
   "metadata": {},
   "outputs": [],
   "source": [
    "for k in D:\n",
    "    if k != \"REINFORCE\":\n",
    "        D[k] = D[k] / D['REINFORCE']\n",
    "D['REINFORCE'] = 1"
   ]
  },
  {
   "cell_type": "code",
   "execution_count": 33,
   "metadata": {},
   "outputs": [
    {
     "data": {
      "image/png": "[encoded data removed]",
      "text/plain": [
       "<Figure size 720x576 with 1 Axes>"
      ]
     },
     "metadata": {
      "needs_background": "light"
     },
     "output_type": "display_data"
    }
   ],
   "source": [
    "plt.bar(range(len(D)), D.values(), align='center')\n",
    "plt.xticks(range(len(D)), list(D.keys()), rotation=\"45\")\n",
    "plt.grid()\n",
    "plt.ylabel(\"Renormalized MSE\")\n",
    "matplotlib2tikz.save(\"MSEs.tex\")\n",
    "plt.show()"
   ]
  },
  {
   "cell_type": "code",
   "execution_count": 34,
   "metadata": {},
   "outputs": [
    {
     "name": "stdout",
     "output_type": "stream",
     "text": [
      "% This file was created by matplotlib2tikz v0.7.4.\r\n",
      "\\begin{tikzpicture}\r\n",
      "\r\n",
      "\\definecolor{color0}{rgb}{0.12156862745098,0.466666666666667,0.705882352941177}\r\n",
      "\r\n",
      "\\begin{axis}[\r\n",
      "tick align=outside,\r\n",
      "tick pos=left,\r\n",
      "x grid style={white!69.01960784313725!black},\r\n",
      "xmajorgrids,\r\n",
      "xmin=-0.94, xmax=10.94,\r\n",
      "xtick style={color=black},\r\n",
      "xtick={0,1,2,3,4,5,6,7,8,9,10},\r\n",
      "xticklabel style = {rotate=45.0},\r\n",
      "xticklabels={REINFORCE,mc-1,mc-2,mc-4,mc-8,mc-16,mc-32,mc-64,mc-128,mc-256,mc-512},\r\n",
      "y grid style={white!69.01960784313725!black},\r\n",
      "ylabel={Renormalized MSE},\r\n",
      "ymajorgrids,\r\n",
      "ymin=0, ymax=1.59067164179104,\r\n",
      "ytick style={color=black}\r\n",
      "]\r\n",
      "\\draw[fill=color0,draw opacity=0] (axis cs:-0.4,0) rectangle (axis cs:0.4,1);\r\n",
      "\\draw[fill=color0,draw opacity=0] (axis cs:0.6,0) rectangle (axis cs:1.4,1.51492537313433);\r\n",
      "\\draw[fill=color0,draw opacity=0] (axis cs:1.6,0) rectangle (axis cs:2.4,0.858208955223881);\r\n",
      "\\draw[fill=color0,draw opacity=0] (axis cs:2.6,0) rectangle (axis cs:3.4,0.552238805970149);\r\n",
      "\\draw[fill=color0,draw opacity=0] (axis cs:3.6,0) rectangle (axis cs:4.4,0.365671641791045);\r\n",
      "\\draw[fill=color0,draw opacity=0] (axis cs:4.6,0) rectangle (axis cs:5.4,0.328358208955224);\r\n",
      "\\draw[fill=color0,draw opacity=0] (axis cs:5.6,0) rectangle (axis cs:6.4,0.26865671641791);\r\n",
      "\\draw[fill=color0,draw opacity=0] (axis cs:6.6,0) rectangle (axis cs:7.4,0.238805970149254);\r\n",
      "\\draw[fill=color0,draw opacity=0] (axis cs:7.6,0) rectangle (axis cs:8.4,0.238805970149254);\r\n",
      "\\draw[fill=color0,draw opacity=0] (axis cs:8.6,0) rectangle (axis cs:9.4,0.23134328358209);\r\n",
      "\\draw[fill=color0,draw opacity=0] (axis cs:9.6,0) rectangle (axis cs:10.4,0.208955223880597);\r\n",
      "\\end{axis}\r\n",
      "\r\n",
      "\\end{tikzpicture}"
     ]
    }
   ],
   "source": [
    "!cat MSEs.tex"
   ]
  }
 ],
 "metadata": {
  "kernelspec": {
   "display_name": "Python 3",
   "language": "python",
   "name": "python3"
  },
  "language_info": {
   "codemirror_mode": {
    "name": "ipython",
    "version": 3
   },
   "file_extension": ".py",
   "mimetype": "text/x-python",
   "name": "python",
   "nbconvert_exporter": "python",
   "pygments_lexer": "ipython3",
   "version": "3.6.8"
  },
  "toc": {
   "base_numbering": 1,
   "nav_menu": {},
   "number_sections": false,
   "sideBar": false,
   "skip_h1_title": false,
   "title_cell": "Table of Contents",
   "title_sidebar": "Contents",
   "toc_cell": false,
   "toc_position": {},
   "toc_section_display": false,
   "toc_window_display": false
  }
 },
 "nbformat": 4,
 "nbformat_minor": 2
}
